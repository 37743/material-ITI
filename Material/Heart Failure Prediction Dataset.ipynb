{
 "cells": [
  {
   "cell_type": "markdown",
   "id": "78b92525",
   "metadata": {},
   "source": [
    "# 0. Get Started"
   ]
  },
  {
   "cell_type": "code",
   "execution_count": 92,
   "id": "4c62c10b",
   "metadata": {},
   "outputs": [],
   "source": [
    "# Standard Pandas & Numpy\n",
    "import pandas as pd\n",
    "import numpy as np\n",
    "# Standard Visualization Packages\n",
    "import matplotlib.pyplot as plt\n",
    "import seaborn as sns\n",
    "import sklearn as sl"
   ]
  },
  {
   "cell_type": "code",
   "execution_count": 2,
   "id": "825b03f5",
   "metadata": {},
   "outputs": [],
   "source": [
    "df = pd.read_csv('heart.csv', low_memory=False)"
   ]
  },
  {
   "cell_type": "markdown",
   "id": "743271d9",
   "metadata": {},
   "source": [
    "# Exploring the Dataset"
   ]
  },
  {
   "cell_type": "code",
   "execution_count": 151,
   "id": "ae4d03bb",
   "metadata": {},
   "outputs": [
    {
     "data": {
      "text/html": [
       "<div>\n",
       "<style scoped>\n",
       "    .dataframe tbody tr th:only-of-type {\n",
       "        vertical-align: middle;\n",
       "    }\n",
       "\n",
       "    .dataframe tbody tr th {\n",
       "        vertical-align: top;\n",
       "    }\n",
       "\n",
       "    .dataframe thead th {\n",
       "        text-align: right;\n",
       "    }\n",
       "</style>\n",
       "<table border=\"1\" class=\"dataframe\">\n",
       "  <thead>\n",
       "    <tr style=\"text-align: right;\">\n",
       "      <th></th>\n",
       "      <th>Sex</th>\n",
       "      <th>ChestPainType</th>\n",
       "      <th>RestingECG</th>\n",
       "      <th>ExerciseAngina</th>\n",
       "      <th>ST_Slope</th>\n",
       "      <th>Age</th>\n",
       "      <th>RestingBP</th>\n",
       "      <th>Cholesterol</th>\n",
       "      <th>FastingBS</th>\n",
       "      <th>MaxHR</th>\n",
       "      <th>Oldpeak</th>\n",
       "      <th>HeartDisease</th>\n",
       "    </tr>\n",
       "  </thead>\n",
       "  <tbody>\n",
       "    <tr>\n",
       "      <th>0</th>\n",
       "      <td>1</td>\n",
       "      <td>1</td>\n",
       "      <td>1</td>\n",
       "      <td>0</td>\n",
       "      <td>2</td>\n",
       "      <td>40</td>\n",
       "      <td>140</td>\n",
       "      <td>289</td>\n",
       "      <td>0</td>\n",
       "      <td>172</td>\n",
       "      <td>0.0</td>\n",
       "      <td>0</td>\n",
       "    </tr>\n",
       "    <tr>\n",
       "      <th>1</th>\n",
       "      <td>0</td>\n",
       "      <td>2</td>\n",
       "      <td>1</td>\n",
       "      <td>0</td>\n",
       "      <td>1</td>\n",
       "      <td>49</td>\n",
       "      <td>160</td>\n",
       "      <td>180</td>\n",
       "      <td>0</td>\n",
       "      <td>156</td>\n",
       "      <td>1.0</td>\n",
       "      <td>1</td>\n",
       "    </tr>\n",
       "    <tr>\n",
       "      <th>2</th>\n",
       "      <td>1</td>\n",
       "      <td>1</td>\n",
       "      <td>2</td>\n",
       "      <td>0</td>\n",
       "      <td>2</td>\n",
       "      <td>37</td>\n",
       "      <td>130</td>\n",
       "      <td>283</td>\n",
       "      <td>0</td>\n",
       "      <td>98</td>\n",
       "      <td>0.0</td>\n",
       "      <td>0</td>\n",
       "    </tr>\n",
       "    <tr>\n",
       "      <th>3</th>\n",
       "      <td>0</td>\n",
       "      <td>0</td>\n",
       "      <td>1</td>\n",
       "      <td>1</td>\n",
       "      <td>1</td>\n",
       "      <td>48</td>\n",
       "      <td>138</td>\n",
       "      <td>214</td>\n",
       "      <td>0</td>\n",
       "      <td>108</td>\n",
       "      <td>1.5</td>\n",
       "      <td>1</td>\n",
       "    </tr>\n",
       "    <tr>\n",
       "      <th>4</th>\n",
       "      <td>1</td>\n",
       "      <td>2</td>\n",
       "      <td>1</td>\n",
       "      <td>0</td>\n",
       "      <td>2</td>\n",
       "      <td>54</td>\n",
       "      <td>150</td>\n",
       "      <td>195</td>\n",
       "      <td>0</td>\n",
       "      <td>122</td>\n",
       "      <td>0.0</td>\n",
       "      <td>0</td>\n",
       "    </tr>\n",
       "  </tbody>\n",
       "</table>\n",
       "</div>"
      ],
      "text/plain": [
       "   Sex  ChestPainType  RestingECG  ExerciseAngina  ST_Slope  Age  RestingBP  \\\n",
       "0    1              1           1               0         2   40        140   \n",
       "1    0              2           1               0         1   49        160   \n",
       "2    1              1           2               0         2   37        130   \n",
       "3    0              0           1               1         1   48        138   \n",
       "4    1              2           1               0         2   54        150   \n",
       "\n",
       "   Cholesterol  FastingBS  MaxHR  Oldpeak  HeartDisease  \n",
       "0          289          0    172      0.0             0  \n",
       "1          180          0    156      1.0             1  \n",
       "2          283          0     98      0.0             0  \n",
       "3          214          0    108      1.5             1  \n",
       "4          195          0    122      0.0             0  "
      ]
     },
     "execution_count": 151,
     "metadata": {},
     "output_type": "execute_result"
    }
   ],
   "source": [
    "#To get the first 5 rows of the dataset\n",
    "df.head()"
   ]
  },
  {
   "cell_type": "code",
   "execution_count": 4,
   "id": "8c099c04",
   "metadata": {},
   "outputs": [
    {
     "data": {
      "text/html": [
       "<div>\n",
       "<style scoped>\n",
       "    .dataframe tbody tr th:only-of-type {\n",
       "        vertical-align: middle;\n",
       "    }\n",
       "\n",
       "    .dataframe tbody tr th {\n",
       "        vertical-align: top;\n",
       "    }\n",
       "\n",
       "    .dataframe thead th {\n",
       "        text-align: right;\n",
       "    }\n",
       "</style>\n",
       "<table border=\"1\" class=\"dataframe\">\n",
       "  <thead>\n",
       "    <tr style=\"text-align: right;\">\n",
       "      <th></th>\n",
       "      <th>Age</th>\n",
       "      <th>Sex</th>\n",
       "      <th>ChestPainType</th>\n",
       "      <th>RestingBP</th>\n",
       "      <th>Cholesterol</th>\n",
       "      <th>FastingBS</th>\n",
       "      <th>RestingECG</th>\n",
       "      <th>MaxHR</th>\n",
       "      <th>ExerciseAngina</th>\n",
       "      <th>Oldpeak</th>\n",
       "      <th>ST_Slope</th>\n",
       "      <th>HeartDisease</th>\n",
       "    </tr>\n",
       "  </thead>\n",
       "  <tbody>\n",
       "    <tr>\n",
       "      <th>913</th>\n",
       "      <td>45</td>\n",
       "      <td>M</td>\n",
       "      <td>TA</td>\n",
       "      <td>110</td>\n",
       "      <td>264</td>\n",
       "      <td>0</td>\n",
       "      <td>Normal</td>\n",
       "      <td>132</td>\n",
       "      <td>N</td>\n",
       "      <td>1.2</td>\n",
       "      <td>Flat</td>\n",
       "      <td>1</td>\n",
       "    </tr>\n",
       "    <tr>\n",
       "      <th>914</th>\n",
       "      <td>68</td>\n",
       "      <td>M</td>\n",
       "      <td>ASY</td>\n",
       "      <td>144</td>\n",
       "      <td>193</td>\n",
       "      <td>1</td>\n",
       "      <td>Normal</td>\n",
       "      <td>141</td>\n",
       "      <td>N</td>\n",
       "      <td>3.4</td>\n",
       "      <td>Flat</td>\n",
       "      <td>1</td>\n",
       "    </tr>\n",
       "    <tr>\n",
       "      <th>915</th>\n",
       "      <td>57</td>\n",
       "      <td>M</td>\n",
       "      <td>ASY</td>\n",
       "      <td>130</td>\n",
       "      <td>131</td>\n",
       "      <td>0</td>\n",
       "      <td>Normal</td>\n",
       "      <td>115</td>\n",
       "      <td>Y</td>\n",
       "      <td>1.2</td>\n",
       "      <td>Flat</td>\n",
       "      <td>1</td>\n",
       "    </tr>\n",
       "    <tr>\n",
       "      <th>916</th>\n",
       "      <td>57</td>\n",
       "      <td>F</td>\n",
       "      <td>ATA</td>\n",
       "      <td>130</td>\n",
       "      <td>236</td>\n",
       "      <td>0</td>\n",
       "      <td>LVH</td>\n",
       "      <td>174</td>\n",
       "      <td>N</td>\n",
       "      <td>0.0</td>\n",
       "      <td>Flat</td>\n",
       "      <td>1</td>\n",
       "    </tr>\n",
       "    <tr>\n",
       "      <th>917</th>\n",
       "      <td>38</td>\n",
       "      <td>M</td>\n",
       "      <td>NAP</td>\n",
       "      <td>138</td>\n",
       "      <td>175</td>\n",
       "      <td>0</td>\n",
       "      <td>Normal</td>\n",
       "      <td>173</td>\n",
       "      <td>N</td>\n",
       "      <td>0.0</td>\n",
       "      <td>Up</td>\n",
       "      <td>0</td>\n",
       "    </tr>\n",
       "  </tbody>\n",
       "</table>\n",
       "</div>"
      ],
      "text/plain": [
       "     Age Sex ChestPainType  RestingBP  Cholesterol  FastingBS RestingECG  \\\n",
       "913   45   M            TA        110          264          0     Normal   \n",
       "914   68   M           ASY        144          193          1     Normal   \n",
       "915   57   M           ASY        130          131          0     Normal   \n",
       "916   57   F           ATA        130          236          0        LVH   \n",
       "917   38   M           NAP        138          175          0     Normal   \n",
       "\n",
       "     MaxHR ExerciseAngina  Oldpeak ST_Slope  HeartDisease  \n",
       "913    132              N      1.2     Flat             1  \n",
       "914    141              N      3.4     Flat             1  \n",
       "915    115              Y      1.2     Flat             1  \n",
       "916    174              N      0.0     Flat             1  \n",
       "917    173              N      0.0       Up             0  "
      ]
     },
     "execution_count": 4,
     "metadata": {},
     "output_type": "execute_result"
    }
   ],
   "source": [
    "#To get the last 5 rows in the dataset\n",
    "df.tail()"
   ]
  },
  {
   "cell_type": "code",
   "execution_count": 5,
   "id": "ec65739c",
   "metadata": {},
   "outputs": [
    {
     "data": {
      "text/plain": [
       "(918, 12)"
      ]
     },
     "execution_count": 5,
     "metadata": {},
     "output_type": "execute_result"
    }
   ],
   "source": [
    "# To know the number of rows and columns in my data\n",
    "df.shape"
   ]
  },
  {
   "cell_type": "code",
   "execution_count": 6,
   "id": "e082fbdb",
   "metadata": {},
   "outputs": [
    {
     "name": "stdout",
     "output_type": "stream",
     "text": [
      "<class 'pandas.core.frame.DataFrame'>\n",
      "RangeIndex: 918 entries, 0 to 917\n",
      "Data columns (total 12 columns):\n",
      " #   Column          Non-Null Count  Dtype  \n",
      "---  ------          --------------  -----  \n",
      " 0   Age             918 non-null    int64  \n",
      " 1   Sex             918 non-null    object \n",
      " 2   ChestPainType   918 non-null    object \n",
      " 3   RestingBP       918 non-null    int64  \n",
      " 4   Cholesterol     918 non-null    int64  \n",
      " 5   FastingBS       918 non-null    int64  \n",
      " 6   RestingECG      918 non-null    object \n",
      " 7   MaxHR           918 non-null    int64  \n",
      " 8   ExerciseAngina  918 non-null    object \n",
      " 9   Oldpeak         918 non-null    float64\n",
      " 10  ST_Slope        918 non-null    object \n",
      " 11  HeartDisease    918 non-null    int64  \n",
      "dtypes: float64(1), int64(6), object(5)\n",
      "memory usage: 86.2+ KB\n"
     ]
    }
   ],
   "source": [
    "# To get some information that helps us to understand the data\n",
    "df.info()"
   ]
  },
  {
   "cell_type": "code",
   "execution_count": 7,
   "id": "1b22c952",
   "metadata": {},
   "outputs": [
    {
     "data": {
      "text/html": [
       "<div>\n",
       "<style scoped>\n",
       "    .dataframe tbody tr th:only-of-type {\n",
       "        vertical-align: middle;\n",
       "    }\n",
       "\n",
       "    .dataframe tbody tr th {\n",
       "        vertical-align: top;\n",
       "    }\n",
       "\n",
       "    .dataframe thead th {\n",
       "        text-align: right;\n",
       "    }\n",
       "</style>\n",
       "<table border=\"1\" class=\"dataframe\">\n",
       "  <thead>\n",
       "    <tr style=\"text-align: right;\">\n",
       "      <th></th>\n",
       "      <th>Age</th>\n",
       "      <th>RestingBP</th>\n",
       "      <th>Cholesterol</th>\n",
       "      <th>FastingBS</th>\n",
       "      <th>MaxHR</th>\n",
       "      <th>Oldpeak</th>\n",
       "      <th>HeartDisease</th>\n",
       "    </tr>\n",
       "  </thead>\n",
       "  <tbody>\n",
       "    <tr>\n",
       "      <th>count</th>\n",
       "      <td>918.000000</td>\n",
       "      <td>918.000000</td>\n",
       "      <td>918.000000</td>\n",
       "      <td>918.000000</td>\n",
       "      <td>918.000000</td>\n",
       "      <td>918.000000</td>\n",
       "      <td>918.000000</td>\n",
       "    </tr>\n",
       "    <tr>\n",
       "      <th>mean</th>\n",
       "      <td>53.510893</td>\n",
       "      <td>132.396514</td>\n",
       "      <td>198.799564</td>\n",
       "      <td>0.233115</td>\n",
       "      <td>136.809368</td>\n",
       "      <td>0.887364</td>\n",
       "      <td>0.553377</td>\n",
       "    </tr>\n",
       "    <tr>\n",
       "      <th>std</th>\n",
       "      <td>9.432617</td>\n",
       "      <td>18.514154</td>\n",
       "      <td>109.384145</td>\n",
       "      <td>0.423046</td>\n",
       "      <td>25.460334</td>\n",
       "      <td>1.066570</td>\n",
       "      <td>0.497414</td>\n",
       "    </tr>\n",
       "    <tr>\n",
       "      <th>min</th>\n",
       "      <td>28.000000</td>\n",
       "      <td>0.000000</td>\n",
       "      <td>0.000000</td>\n",
       "      <td>0.000000</td>\n",
       "      <td>60.000000</td>\n",
       "      <td>-2.600000</td>\n",
       "      <td>0.000000</td>\n",
       "    </tr>\n",
       "    <tr>\n",
       "      <th>25%</th>\n",
       "      <td>47.000000</td>\n",
       "      <td>120.000000</td>\n",
       "      <td>173.250000</td>\n",
       "      <td>0.000000</td>\n",
       "      <td>120.000000</td>\n",
       "      <td>0.000000</td>\n",
       "      <td>0.000000</td>\n",
       "    </tr>\n",
       "    <tr>\n",
       "      <th>50%</th>\n",
       "      <td>54.000000</td>\n",
       "      <td>130.000000</td>\n",
       "      <td>223.000000</td>\n",
       "      <td>0.000000</td>\n",
       "      <td>138.000000</td>\n",
       "      <td>0.600000</td>\n",
       "      <td>1.000000</td>\n",
       "    </tr>\n",
       "    <tr>\n",
       "      <th>75%</th>\n",
       "      <td>60.000000</td>\n",
       "      <td>140.000000</td>\n",
       "      <td>267.000000</td>\n",
       "      <td>0.000000</td>\n",
       "      <td>156.000000</td>\n",
       "      <td>1.500000</td>\n",
       "      <td>1.000000</td>\n",
       "    </tr>\n",
       "    <tr>\n",
       "      <th>max</th>\n",
       "      <td>77.000000</td>\n",
       "      <td>200.000000</td>\n",
       "      <td>603.000000</td>\n",
       "      <td>1.000000</td>\n",
       "      <td>202.000000</td>\n",
       "      <td>6.200000</td>\n",
       "      <td>1.000000</td>\n",
       "    </tr>\n",
       "  </tbody>\n",
       "</table>\n",
       "</div>"
      ],
      "text/plain": [
       "              Age   RestingBP  Cholesterol   FastingBS       MaxHR  \\\n",
       "count  918.000000  918.000000   918.000000  918.000000  918.000000   \n",
       "mean    53.510893  132.396514   198.799564    0.233115  136.809368   \n",
       "std      9.432617   18.514154   109.384145    0.423046   25.460334   \n",
       "min     28.000000    0.000000     0.000000    0.000000   60.000000   \n",
       "25%     47.000000  120.000000   173.250000    0.000000  120.000000   \n",
       "50%     54.000000  130.000000   223.000000    0.000000  138.000000   \n",
       "75%     60.000000  140.000000   267.000000    0.000000  156.000000   \n",
       "max     77.000000  200.000000   603.000000    1.000000  202.000000   \n",
       "\n",
       "          Oldpeak  HeartDisease  \n",
       "count  918.000000    918.000000  \n",
       "mean     0.887364      0.553377  \n",
       "std      1.066570      0.497414  \n",
       "min     -2.600000      0.000000  \n",
       "25%      0.000000      0.000000  \n",
       "50%      0.600000      1.000000  \n",
       "75%      1.500000      1.000000  \n",
       "max      6.200000      1.000000  "
      ]
     },
     "execution_count": 7,
     "metadata": {},
     "output_type": "execute_result"
    }
   ],
   "source": [
    "# To get a description about the data\n",
    "df.describe()"
   ]
  },
  {
   "cell_type": "code",
   "execution_count": 8,
   "id": "2afb59fc",
   "metadata": {},
   "outputs": [
    {
     "data": {
      "text/plain": [
       "1    508\n",
       "0    410\n",
       "Name: HeartDisease, dtype: int64"
      ]
     },
     "execution_count": 8,
     "metadata": {},
     "output_type": "execute_result"
    }
   ],
   "source": [
    "df['HeartDisease'].value_counts()"
   ]
  },
  {
   "cell_type": "markdown",
   "id": "14eb6bb1",
   "metadata": {},
   "source": [
    "# Dataset Cleaning"
   ]
  },
  {
   "cell_type": "code",
   "execution_count": 9,
   "id": "9a7aba93",
   "metadata": {},
   "outputs": [
    {
     "data": {
      "text/plain": [
       "Age               0\n",
       "Sex               0\n",
       "ChestPainType     0\n",
       "RestingBP         0\n",
       "Cholesterol       0\n",
       "FastingBS         0\n",
       "RestingECG        0\n",
       "MaxHR             0\n",
       "ExerciseAngina    0\n",
       "Oldpeak           0\n",
       "ST_Slope          0\n",
       "HeartDisease      0\n",
       "dtype: int64"
      ]
     },
     "execution_count": 9,
     "metadata": {},
     "output_type": "execute_result"
    }
   ],
   "source": [
    "#Check for any missing values\n",
    "df.isnull().sum()"
   ]
  },
  {
   "cell_type": "code",
   "execution_count": 10,
   "id": "88ba5ca5",
   "metadata": {},
   "outputs": [
    {
     "data": {
      "text/plain": [
       "<AxesSubplot:>"
      ]
     },
     "execution_count": 10,
     "metadata": {},
     "output_type": "execute_result"
    },
    {
     "data": {
      "image/png": "[encoded data removed]",
      "text/plain": [
       "<Figure size 432x288 with 2 Axes>"
      ]
     },
     "metadata": {
      "needs_background": "light"
     },
     "output_type": "display_data"
    }
   ],
   "source": [
    "# Another way to visualize any missing values in our dataset\n",
    "sns.heatmap(df.isnull())"
   ]
  },
  {
   "cell_type": "markdown",
   "id": "57f40d95",
   "metadata": {},
   "source": [
    "* No missing values in the dataset!"
   ]
  },
  {
   "cell_type": "code",
   "execution_count": 13,
   "id": "1d6d0161",
   "metadata": {},
   "outputs": [
    {
     "data": {
      "text/plain": [
       "0      False\n",
       "1      False\n",
       "2      False\n",
       "3      False\n",
       "4      False\n",
       "       ...  \n",
       "913    False\n",
       "914    False\n",
       "915    False\n",
       "916    False\n",
       "917    False\n",
       "Length: 918, dtype: bool"
      ]
     },
     "execution_count": 13,
     "metadata": {},
     "output_type": "execute_result"
    }
   ],
   "source": [
    "#Check for any duplicated values in our dataset\n",
    "df.duplicated()"
   ]
  },
  {
   "cell_type": "code",
   "execution_count": 14,
   "id": "fda71007",
   "metadata": {},
   "outputs": [
    {
     "data": {
      "text/plain": [
       "0"
      ]
     },
     "execution_count": 14,
     "metadata": {},
     "output_type": "execute_result"
    }
   ],
   "source": [
    "# To get the sum of any duplicated values in our dataset\n",
    "df.duplicated().sum()"
   ]
  },
  {
   "cell_type": "markdown",
   "id": "849e82a9",
   "metadata": {},
   "source": [
    "* No duplicated values in the dataset!"
   ]
  },
  {
   "cell_type": "code",
   "execution_count": 57,
   "id": "f500c14c",
   "metadata": {},
   "outputs": [
    {
     "data": {
      "text/plain": [
       "{'whiskers': [<matplotlib.lines.Line2D at 0x1ba453a5730>,\n",
       "  <matplotlib.lines.Line2D at 0x1ba453a5220>],\n",
       " 'caps': [<matplotlib.lines.Line2D at 0x1ba453a5fa0>,\n",
       "  <matplotlib.lines.Line2D at 0x1ba453a5cd0>],\n",
       " 'boxes': [<matplotlib.lines.Line2D at 0x1ba453aefd0>],\n",
       " 'medians': [<matplotlib.lines.Line2D at 0x1ba453c91f0>],\n",
       " 'fliers': [<matplotlib.lines.Line2D at 0x1ba453c9670>],\n",
       " 'means': []}"
      ]
     },
     "execution_count": 57,
     "metadata": {},
     "output_type": "execute_result"
    },
    {
     "data": {
      "image/png": "[encoded data removed]",
      "text/plain": [
       "<Figure size 432x288 with 1 Axes>"
      ]
     },
     "metadata": {
      "needs_background": "light"
     },
     "output_type": "display_data"
    }
   ],
   "source": [
    "# Check for any outliers in the age variable\n",
    "plt.boxplot(df['Age'])"
   ]
  },
  {
   "cell_type": "code",
   "execution_count": 58,
   "id": "03a78a8d",
   "metadata": {},
   "outputs": [
    {
     "data": {
      "text/plain": [
       "{'whiskers': [<matplotlib.lines.Line2D at 0x1ba45249b80>,\n",
       "  <matplotlib.lines.Line2D at 0x1ba452497f0>],\n",
       " 'caps': [<matplotlib.lines.Line2D at 0x1ba4524c7f0>,\n",
       "  <matplotlib.lines.Line2D at 0x1ba4524ce80>],\n",
       " 'boxes': [<matplotlib.lines.Line2D at 0x1ba45249b20>],\n",
       " 'medians': [<matplotlib.lines.Line2D at 0x1ba4524c3d0>],\n",
       " 'fliers': [<matplotlib.lines.Line2D at 0x1ba4524c100>],\n",
       " 'means': []}"
      ]
     },
     "execution_count": 58,
     "metadata": {},
     "output_type": "execute_result"
    },
    {
     "data": {
      "image/png": "[encoded data removed]",
      "text/plain": [
       "<Figure size 432x288 with 1 Axes>"
      ]
     },
     "metadata": {
      "needs_background": "light"
     },
     "output_type": "display_data"
    }
   ],
   "source": [
    "# Check for any outliers in the RestingBP variable\n",
    "plt.boxplot(df['RestingBP'])"
   ]
  },
  {
   "cell_type": "code",
   "execution_count": 59,
   "id": "efc992b4",
   "metadata": {},
   "outputs": [
    {
     "data": {
      "text/plain": [
       "{'whiskers': [<matplotlib.lines.Line2D at 0x1ba4437f9d0>,\n",
       "  <matplotlib.lines.Line2D at 0x1ba4437f250>],\n",
       " 'caps': [<matplotlib.lines.Line2D at 0x1ba43eec2e0>,\n",
       "  <matplotlib.lines.Line2D at 0x1ba43eec580>],\n",
       " 'boxes': [<matplotlib.lines.Line2D at 0x1ba4437f5b0>],\n",
       " 'medians': [<matplotlib.lines.Line2D at 0x1ba43eec910>],\n",
       " 'fliers': [<matplotlib.lines.Line2D at 0x1ba43eecc40>],\n",
       " 'means': []}"
      ]
     },
     "execution_count": 59,
     "metadata": {},
     "output_type": "execute_result"
    },
    {
     "data": {
      "image/png": "[encoded data removed]",
      "text/plain": [
       "<Figure size 432x288 with 1 Axes>"
      ]
     },
     "metadata": {
      "needs_background": "light"
     },
     "output_type": "display_data"
    }
   ],
   "source": [
    "# Removing the outliers in the RestingBP variable using interquartile range (IQR)\n",
    "Q1 = df['RestingBP'].quantile(0.25)\n",
    "Q3 = df['RestingBP'].quantile(0.75)\n",
    "IQR = Q3 - Q1\n",
    "\n",
    "df = df[(df['RestingBP'] >= Q1 - 1.5 * IQR) & (df['RestingBP'] <= Q3 + 1.5 * IQR)]\n",
    "# Now, there is no outliers in the RestingBP variable\n",
    "plt.boxplot(df['RestingBP'])"
   ]
  },
  {
   "cell_type": "markdown",
   "id": "365afabe",
   "metadata": {},
   "source": [
    "* No more outliers"
   ]
  },
  {
   "cell_type": "markdown",
   "id": "dc0b7a58",
   "metadata": {},
   "source": [
    "# Plotting Dataset"
   ]
  },
  {
   "cell_type": "markdown",
   "id": "e98b6f39",
   "metadata": {},
   "source": [
    "Scatter Plot:\n",
    "Visualize the relationship between two variables."
   ]
  },
  {
   "cell_type": "code",
   "execution_count": 16,
   "id": "cb0ba106",
   "metadata": {},
   "outputs": [
    {
     "data": {
      "image/png": "[encoded data removed]",
      "text/plain": [
       "<Figure size 432x288 with 1 Axes>"
      ]
     },
     "metadata": {
      "needs_background": "light"
     },
     "output_type": "display_data"
    }
   ],
   "source": [
    "sns.scatterplot(x= 'Age', y= 'Cholesterol', data= df)\n",
    "plt.title('Age Vs Cholesterol')\n",
    "plt.show()"
   ]
  },
  {
   "cell_type": "markdown",
   "id": "f9434e27",
   "metadata": {},
   "source": [
    "# Heat Map\n",
    "Visualize the correlation between multiple variables"
   ]
  },
  {
   "cell_type": "code",
   "execution_count": 18,
   "id": "73af57cd",
   "metadata": {},
   "outputs": [
    {
     "data": {
      "image/png": "[encoded data removed]",
      "text/plain": [
       "<Figure size 432x288 with 2 Axes>"
      ]
     },
     "metadata": {
      "needs_background": "light"
     },
     "output_type": "display_data"
    }
   ],
   "source": [
    "#??? More definition is required\n",
    "corr_matrix = df.corr()\n",
    "sns.heatmap(corr_matrix, annot=True, cmap='coolwarm')\n",
    "plt.title('Correlation Heat Map')\n",
    "plt.show()"
   ]
  },
  {
   "cell_type": "code",
   "execution_count": 56,
   "id": "720620fe",
   "metadata": {},
   "outputs": [
    {
     "data": {
      "text/plain": [
       "<AxesSubplot:>"
      ]
     },
     "execution_count": 56,
     "metadata": {},
     "output_type": "execute_result"
    },
    {
     "data": {
      "image/png": "[encoded data removed]",
      "text/plain": [
       "<Figure size 432x288 with 2 Axes>"
      ]
     },
     "metadata": {
      "needs_background": "light"
     },
     "output_type": "display_data"
    }
   ],
   "source": [
    "#??? More definition is required\n",
    "cor = df.corr()\n",
    "sns.heatmap(cor.rank(axis='columns'), annot=True, linewidth=1)"
   ]
  },
  {
   "cell_type": "markdown",
   "id": "53f7f8ce",
   "metadata": {},
   "source": [
    "# Bar Plot\n",
    "Visualize the frequency of a categorical variable."
   ]
  },
  {
   "cell_type": "code",
   "execution_count": 19,
   "id": "e4d9b547",
   "metadata": {},
   "outputs": [
    {
     "data": {
      "image/png": "[encoded data removed]",
      "text/plain": [
       "<Figure size 432x288 with 1 Axes>"
      ]
     },
     "metadata": {
      "needs_background": "light"
     },
     "output_type": "display_data"
    }
   ],
   "source": [
    "sns.countplot(x='ChestPainType', data=df)\n",
    "plt.title('ChestPainType Distribution')\n",
    "plt.show()"
   ]
  },
  {
   "cell_type": "code",
   "execution_count": 20,
   "id": "24f0c544",
   "metadata": {},
   "outputs": [
    {
     "data": {
      "image/png": "[encoded data removed]",
      "text/plain": [
       "<Figure size 432x288 with 1 Axes>"
      ]
     },
     "metadata": {
      "needs_background": "light"
     },
     "output_type": "display_data"
    }
   ],
   "source": [
    "sns.countplot(x='Sex', data=df)\n",
    "plt.title('Gender Distribution')\n",
    "plt.show()"
   ]
  },
  {
   "cell_type": "code",
   "execution_count": 21,
   "id": "df2e032a",
   "metadata": {},
   "outputs": [
    {
     "data": {
      "image/png": "[encoded data removed]",
      "text/plain": [
       "<Figure size 432x288 with 1 Axes>"
      ]
     },
     "metadata": {
      "needs_background": "light"
     },
     "output_type": "display_data"
    }
   ],
   "source": [
    "sns.countplot(x='RestingECG', data=df)\n",
    "plt.title('Resting Electrocardiogram Distribution')\n",
    "plt.show()"
   ]
  },
  {
   "cell_type": "code",
   "execution_count": 22,
   "id": "fc624bd5",
   "metadata": {},
   "outputs": [
    {
     "data": {
      "image/png": "[encoded data removed]",
      "text/plain": [
       "<Figure size 432x288 with 1 Axes>"
      ]
     },
     "metadata": {
      "needs_background": "light"
     },
     "output_type": "display_data"
    }
   ],
   "source": [
    "sns.countplot(x='ExerciseAngina', data=df)\n",
    "plt.title('ExerciseAngina Distribution')\n",
    "plt.show()"
   ]
  },
  {
   "cell_type": "code",
   "execution_count": 23,
   "id": "2438317c",
   "metadata": {},
   "outputs": [
    {
     "data": {
      "image/png": "[encoded data removed]",
      "text/plain": [
       "<Figure size 432x288 with 1 Axes>"
      ]
     },
     "metadata": {
      "needs_background": "light"
     },
     "output_type": "display_data"
    }
   ],
   "source": [
    "sns.countplot(x='ST_Slope', data=df)\n",
    "plt.title('ST_Slope Distribution')\n",
    "plt.show()"
   ]
  },
  {
   "cell_type": "code",
   "execution_count": 49,
   "id": "3d2ac103",
   "metadata": {
    "scrolled": true
   },
   "outputs": [
    {
     "ename": "ValueError",
     "evalue": "num must be 1 <= num <= 2, not 3",
     "output_type": "error",
     "traceback": [
      "\u001b[1;31m---------------------------------------------------------------------------\u001b[0m",
      "\u001b[1;31mValueError\u001b[0m                                Traceback (most recent call last)",
      "Input \u001b[1;32mIn [49]\u001b[0m, in \u001b[0;36m<cell line: 11>\u001b[1;34m()\u001b[0m\n\u001b[0;32m      8\u001b[0m plt\u001b[38;5;241m.\u001b[39mplot(t, \u001b[38;5;124m\"\u001b[39m\u001b[38;5;124mr--\u001b[39m\u001b[38;5;124m\"\u001b[39m, t\u001b[38;5;241m*\u001b[39m\u001b[38;5;241m*\u001b[39m\u001b[38;5;241m2\u001b[39m, \u001b[38;5;124m\"\u001b[39m\u001b[38;5;124mb+\u001b[39m\u001b[38;5;124m\"\u001b[39m, t\u001b[38;5;241m*\u001b[39m\u001b[38;5;241m*\u001b[39m\u001b[38;5;241m3\u001b[39m, \u001b[38;5;124m\"\u001b[39m\u001b[38;5;124mg-o\u001b[39m\u001b[38;5;124m\"\u001b[39m)\n\u001b[0;32m      9\u001b[0m plt\u001b[38;5;241m.\u001b[39mxlabel(\u001b[38;5;124m\"\u001b[39m\u001b[38;5;124mGraph 2\u001b[39m\u001b[38;5;124m\"\u001b[39m)\n\u001b[1;32m---> 11\u001b[0m \u001b[43mplt\u001b[49m\u001b[38;5;241;43m.\u001b[39;49m\u001b[43msubplot\u001b[49m\u001b[43m(\u001b[49m\u001b[38;5;241;43m123\u001b[39;49m\u001b[43m)\u001b[49m\n\u001b[0;32m     12\u001b[0m plt\u001b[38;5;241m.\u001b[39mplot(t, \u001b[38;5;124m\"\u001b[39m\u001b[38;5;124mr--\u001b[39m\u001b[38;5;124m\"\u001b[39m)\n\u001b[0;32m     13\u001b[0m plt\u001b[38;5;241m.\u001b[39mxlabel(\u001b[38;5;124m\"\u001b[39m\u001b[38;5;124mGraph 3\u001b[39m\u001b[38;5;124m\"\u001b[39m)\n",
      "File \u001b[1;32m~\\anaconda3\\lib\\site-packages\\matplotlib\\pyplot.py:1268\u001b[0m, in \u001b[0;36msubplot\u001b[1;34m(*args, **kwargs)\u001b[0m\n\u001b[0;32m   1265\u001b[0m fig \u001b[38;5;241m=\u001b[39m gcf()\n\u001b[0;32m   1267\u001b[0m \u001b[38;5;66;03m# First, search for an existing subplot with a matching spec.\u001b[39;00m\n\u001b[1;32m-> 1268\u001b[0m key \u001b[38;5;241m=\u001b[39m \u001b[43mSubplotSpec\u001b[49m\u001b[38;5;241;43m.\u001b[39;49m\u001b[43m_from_subplot_args\u001b[49m\u001b[43m(\u001b[49m\u001b[43mfig\u001b[49m\u001b[43m,\u001b[49m\u001b[43m \u001b[49m\u001b[43margs\u001b[49m\u001b[43m)\u001b[49m\n\u001b[0;32m   1270\u001b[0m \u001b[38;5;28;01mfor\u001b[39;00m ax \u001b[38;5;129;01min\u001b[39;00m fig\u001b[38;5;241m.\u001b[39maxes:\n\u001b[0;32m   1271\u001b[0m     \u001b[38;5;66;03m# if we found an axes at the position sort out if we can re-use it\u001b[39;00m\n\u001b[0;32m   1272\u001b[0m     \u001b[38;5;28;01mif\u001b[39;00m \u001b[38;5;28mhasattr\u001b[39m(ax, \u001b[38;5;124m'\u001b[39m\u001b[38;5;124mget_subplotspec\u001b[39m\u001b[38;5;124m'\u001b[39m) \u001b[38;5;129;01mand\u001b[39;00m ax\u001b[38;5;241m.\u001b[39mget_subplotspec() \u001b[38;5;241m==\u001b[39m key:\n\u001b[0;32m   1273\u001b[0m         \u001b[38;5;66;03m# if the user passed no kwargs, re-use\u001b[39;00m\n",
      "File \u001b[1;32m~\\anaconda3\\lib\\site-packages\\matplotlib\\gridspec.py:608\u001b[0m, in \u001b[0;36mSubplotSpec._from_subplot_args\u001b[1;34m(figure, args)\u001b[0m\n\u001b[0;32m    606\u001b[0m \u001b[38;5;28;01melse\u001b[39;00m:\n\u001b[0;32m    607\u001b[0m     \u001b[38;5;28;01mif\u001b[39;00m \u001b[38;5;129;01mnot\u001b[39;00m \u001b[38;5;28misinstance\u001b[39m(num, Integral) \u001b[38;5;129;01mor\u001b[39;00m num \u001b[38;5;241m<\u001b[39m \u001b[38;5;241m1\u001b[39m \u001b[38;5;129;01mor\u001b[39;00m num \u001b[38;5;241m>\u001b[39m rows\u001b[38;5;241m*\u001b[39mcols:\n\u001b[1;32m--> 608\u001b[0m         \u001b[38;5;28;01mraise\u001b[39;00m \u001b[38;5;167;01mValueError\u001b[39;00m(\n\u001b[0;32m    609\u001b[0m             \u001b[38;5;124mf\u001b[39m\u001b[38;5;124m\"\u001b[39m\u001b[38;5;124mnum must be 1 <= num <= \u001b[39m\u001b[38;5;132;01m{\u001b[39;00mrows\u001b[38;5;241m*\u001b[39mcols\u001b[38;5;132;01m}\u001b[39;00m\u001b[38;5;124m, not \u001b[39m\u001b[38;5;132;01m{\u001b[39;00mnum\u001b[38;5;132;01m!r}\u001b[39;00m\u001b[38;5;124m\"\u001b[39m)\n\u001b[0;32m    610\u001b[0m     i \u001b[38;5;241m=\u001b[39m j \u001b[38;5;241m=\u001b[39m num\n\u001b[0;32m    611\u001b[0m \u001b[38;5;28;01mreturn\u001b[39;00m gs[i\u001b[38;5;241m-\u001b[39m\u001b[38;5;241m1\u001b[39m:j]\n",
      "\u001b[1;31mValueError\u001b[0m: num must be 1 <= num <= 2, not 3"
     ]
    },
    {
     "data": {
      "image/png": "[encoded data removed]",
      "text/plain": [
       "<Figure size 432x288 with 2 Axes>"
      ]
     },
     "metadata": {
      "needs_background": "light"
     },
     "output_type": "display_data"
    }
   ],
   "source": [
    "t=np.arange(0, 5, 0.02)\n",
    " \n",
    "plt.subplot(121)\n",
    "plt.plot(t, \"r--\")\n",
    "plt.xlabel(\"Graph 1\")\n",
    " \n",
    "plt.subplot(122)\n",
    "plt.plot(t, \"r--\", t**2, \"b+\", t**3, \"g-o\")\n",
    "plt.xlabel(\"Graph 2\")\n",
    "\n",
    "plt.subplot(123)\n",
    "plt.plot(t, \"r--\")\n",
    "plt.xlabel(\"Graph 3\")\n",
    " \n",
    "plt.subplot(124)\n",
    "plt.plot(t, \"r--\", t**2, \"b+\", t**3, \"g-o\")\n",
    "plt.xlabel(\"Graph 4\")\n",
    "\n",
    "plt.subplot(125)\n",
    "plt.plot(t, \"r--\")\n",
    "plt.xlabel(\"Graph 5\")\n",
    "  \n",
    "plt.suptitle(\"Plotting Multiple Graphs\")\n",
    "plt.show()"
   ]
  },
  {
   "cell_type": "markdown",
   "id": "6143d365",
   "metadata": {},
   "source": [
    "# Box Plot\n",
    "Visualize the distribution of a numerical variable and know the outliers."
   ]
  },
  {
   "cell_type": "code",
   "execution_count": 50,
   "id": "98d80e02",
   "metadata": {},
   "outputs": [
    {
     "data": {
      "image/png": "[encoded data removed]",
      "text/plain": [
       "<Figure size 432x288 with 1 Axes>"
      ]
     },
     "metadata": {
      "needs_background": "light"
     },
     "output_type": "display_data"
    }
   ],
   "source": [
    "#For the age variable!\n",
    "sns.boxplot(x='Age', data= df)\n",
    "plt.title('Age Distribution')\n",
    "plt.show()"
   ]
  },
  {
   "cell_type": "code",
   "execution_count": 51,
   "id": "9bf05431",
   "metadata": {},
   "outputs": [
    {
     "data": {
      "image/png": "[encoded data removed]",
      "text/plain": [
       "<Figure size 432x288 with 1 Axes>"
      ]
     },
     "metadata": {
      "needs_background": "light"
     },
     "output_type": "display_data"
    }
   ],
   "source": [
    "# For the RestingBP variable!\n",
    "sns.boxplot(x='RestingBP', data= df)\n",
    "plt.title('Resting Blood Pressure Distribution')\n",
    "plt.show()"
   ]
  },
  {
   "cell_type": "markdown",
   "id": "01b269af",
   "metadata": {},
   "source": [
    "# Histogram\n",
    "Visualize the distribution of a numerical variable."
   ]
  },
  {
   "cell_type": "code",
   "execution_count": 54,
   "id": "f1472cf0",
   "metadata": {
    "scrolled": true
   },
   "outputs": [
    {
     "data": {
      "image/png": "[encoded data removed]",
      "text/plain": [
       "<Figure size 1440x1080 with 12 Axes>"
      ]
     },
     "metadata": {
      "needs_background": "light"
     },
     "output_type": "display_data"
    }
   ],
   "source": [
    "# All features at once\n",
    "df.hist(figsize=(20,15))\n",
    "plt.show()"
   ]
  },
  {
   "cell_type": "markdown",
   "id": "c9cbcb88",
   "metadata": {},
   "source": [
    "# Convert Data types into Numerical ones"
   ]
  },
  {
   "cell_type": "code",
   "execution_count": 62,
   "id": "7aa084e3",
   "metadata": {},
   "outputs": [
    {
     "data": {
      "text/html": [
       "<div>\n",
       "<style scoped>\n",
       "    .dataframe tbody tr th:only-of-type {\n",
       "        vertical-align: middle;\n",
       "    }\n",
       "\n",
       "    .dataframe tbody tr th {\n",
       "        vertical-align: top;\n",
       "    }\n",
       "\n",
       "    .dataframe thead th {\n",
       "        text-align: right;\n",
       "    }\n",
       "</style>\n",
       "<table border=\"1\" class=\"dataframe\">\n",
       "  <thead>\n",
       "    <tr style=\"text-align: right;\">\n",
       "      <th></th>\n",
       "      <th>Sex</th>\n",
       "      <th>ChestPainType</th>\n",
       "      <th>RestingECG</th>\n",
       "      <th>ExerciseAngina</th>\n",
       "      <th>ST_Slope</th>\n",
       "      <th>Age</th>\n",
       "      <th>RestingBP</th>\n",
       "      <th>Cholesterol</th>\n",
       "      <th>FastingBS</th>\n",
       "      <th>MaxHR</th>\n",
       "      <th>Oldpeak</th>\n",
       "      <th>HeartDisease</th>\n",
       "    </tr>\n",
       "  </thead>\n",
       "  <tbody>\n",
       "    <tr>\n",
       "      <th>0</th>\n",
       "      <td>1</td>\n",
       "      <td>1</td>\n",
       "      <td>1</td>\n",
       "      <td>0</td>\n",
       "      <td>2</td>\n",
       "      <td>40</td>\n",
       "      <td>140</td>\n",
       "      <td>289</td>\n",
       "      <td>0</td>\n",
       "      <td>172</td>\n",
       "      <td>0.0</td>\n",
       "      <td>0</td>\n",
       "    </tr>\n",
       "    <tr>\n",
       "      <th>1</th>\n",
       "      <td>0</td>\n",
       "      <td>2</td>\n",
       "      <td>1</td>\n",
       "      <td>0</td>\n",
       "      <td>1</td>\n",
       "      <td>49</td>\n",
       "      <td>160</td>\n",
       "      <td>180</td>\n",
       "      <td>0</td>\n",
       "      <td>156</td>\n",
       "      <td>1.0</td>\n",
       "      <td>1</td>\n",
       "    </tr>\n",
       "    <tr>\n",
       "      <th>2</th>\n",
       "      <td>1</td>\n",
       "      <td>1</td>\n",
       "      <td>2</td>\n",
       "      <td>0</td>\n",
       "      <td>2</td>\n",
       "      <td>37</td>\n",
       "      <td>130</td>\n",
       "      <td>283</td>\n",
       "      <td>0</td>\n",
       "      <td>98</td>\n",
       "      <td>0.0</td>\n",
       "      <td>0</td>\n",
       "    </tr>\n",
       "    <tr>\n",
       "      <th>3</th>\n",
       "      <td>0</td>\n",
       "      <td>0</td>\n",
       "      <td>1</td>\n",
       "      <td>1</td>\n",
       "      <td>1</td>\n",
       "      <td>48</td>\n",
       "      <td>138</td>\n",
       "      <td>214</td>\n",
       "      <td>0</td>\n",
       "      <td>108</td>\n",
       "      <td>1.5</td>\n",
       "      <td>1</td>\n",
       "    </tr>\n",
       "    <tr>\n",
       "      <th>4</th>\n",
       "      <td>1</td>\n",
       "      <td>2</td>\n",
       "      <td>1</td>\n",
       "      <td>0</td>\n",
       "      <td>2</td>\n",
       "      <td>54</td>\n",
       "      <td>150</td>\n",
       "      <td>195</td>\n",
       "      <td>0</td>\n",
       "      <td>122</td>\n",
       "      <td>0.0</td>\n",
       "      <td>0</td>\n",
       "    </tr>\n",
       "    <tr>\n",
       "      <th>...</th>\n",
       "      <td>...</td>\n",
       "      <td>...</td>\n",
       "      <td>...</td>\n",
       "      <td>...</td>\n",
       "      <td>...</td>\n",
       "      <td>...</td>\n",
       "      <td>...</td>\n",
       "      <td>...</td>\n",
       "      <td>...</td>\n",
       "      <td>...</td>\n",
       "      <td>...</td>\n",
       "      <td>...</td>\n",
       "    </tr>\n",
       "    <tr>\n",
       "      <th>913</th>\n",
       "      <td>1</td>\n",
       "      <td>3</td>\n",
       "      <td>1</td>\n",
       "      <td>0</td>\n",
       "      <td>1</td>\n",
       "      <td>45</td>\n",
       "      <td>110</td>\n",
       "      <td>264</td>\n",
       "      <td>0</td>\n",
       "      <td>132</td>\n",
       "      <td>1.2</td>\n",
       "      <td>1</td>\n",
       "    </tr>\n",
       "    <tr>\n",
       "      <th>914</th>\n",
       "      <td>1</td>\n",
       "      <td>0</td>\n",
       "      <td>1</td>\n",
       "      <td>0</td>\n",
       "      <td>1</td>\n",
       "      <td>68</td>\n",
       "      <td>144</td>\n",
       "      <td>193</td>\n",
       "      <td>1</td>\n",
       "      <td>141</td>\n",
       "      <td>3.4</td>\n",
       "      <td>1</td>\n",
       "    </tr>\n",
       "    <tr>\n",
       "      <th>915</th>\n",
       "      <td>1</td>\n",
       "      <td>0</td>\n",
       "      <td>1</td>\n",
       "      <td>1</td>\n",
       "      <td>1</td>\n",
       "      <td>57</td>\n",
       "      <td>130</td>\n",
       "      <td>131</td>\n",
       "      <td>0</td>\n",
       "      <td>115</td>\n",
       "      <td>1.2</td>\n",
       "      <td>1</td>\n",
       "    </tr>\n",
       "    <tr>\n",
       "      <th>916</th>\n",
       "      <td>0</td>\n",
       "      <td>1</td>\n",
       "      <td>0</td>\n",
       "      <td>0</td>\n",
       "      <td>1</td>\n",
       "      <td>57</td>\n",
       "      <td>130</td>\n",
       "      <td>236</td>\n",
       "      <td>0</td>\n",
       "      <td>174</td>\n",
       "      <td>0.0</td>\n",
       "      <td>1</td>\n",
       "    </tr>\n",
       "    <tr>\n",
       "      <th>917</th>\n",
       "      <td>1</td>\n",
       "      <td>2</td>\n",
       "      <td>1</td>\n",
       "      <td>0</td>\n",
       "      <td>2</td>\n",
       "      <td>38</td>\n",
       "      <td>138</td>\n",
       "      <td>175</td>\n",
       "      <td>0</td>\n",
       "      <td>173</td>\n",
       "      <td>0.0</td>\n",
       "      <td>0</td>\n",
       "    </tr>\n",
       "  </tbody>\n",
       "</table>\n",
       "<p>890 rows × 12 columns</p>\n",
       "</div>"
      ],
      "text/plain": [
       "     Sex  ChestPainType  RestingECG  ExerciseAngina  ST_Slope  Age  RestingBP  \\\n",
       "0      1              1           1               0         2   40        140   \n",
       "1      0              2           1               0         1   49        160   \n",
       "2      1              1           2               0         2   37        130   \n",
       "3      0              0           1               1         1   48        138   \n",
       "4      1              2           1               0         2   54        150   \n",
       "..   ...            ...         ...             ...       ...  ...        ...   \n",
       "913    1              3           1               0         1   45        110   \n",
       "914    1              0           1               0         1   68        144   \n",
       "915    1              0           1               1         1   57        130   \n",
       "916    0              1           0               0         1   57        130   \n",
       "917    1              2           1               0         2   38        138   \n",
       "\n",
       "     Cholesterol  FastingBS  MaxHR  Oldpeak  HeartDisease  \n",
       "0            289          0    172      0.0             0  \n",
       "1            180          0    156      1.0             1  \n",
       "2            283          0     98      0.0             0  \n",
       "3            214          0    108      1.5             1  \n",
       "4            195          0    122      0.0             0  \n",
       "..           ...        ...    ...      ...           ...  \n",
       "913          264          0    132      1.2             1  \n",
       "914          193          1    141      3.4             1  \n",
       "915          131          0    115      1.2             1  \n",
       "916          236          0    174      0.0             1  \n",
       "917          175          0    173      0.0             0  \n",
       "\n",
       "[890 rows x 12 columns]"
      ]
     },
     "execution_count": 62,
     "metadata": {},
     "output_type": "execute_result"
    }
   ],
   "source": [
    "# To convert the data into numerical types\n",
    "from sklearn.preprocessing import LabelEncoder\n",
    "\n",
    "laben = LabelEncoder()\n",
    "# Selecting objects datatypes from our dataset\n",
    "obj = df.select_dtypes(include='object')\n",
    "non_obj = df.select_dtypes(exclude='object')\n",
    "# Loop to convert each object data type into numerical one\n",
    "for i in range (0, obj.shape[1]) :\n",
    "    obj.iloc[:, i] = laben.fit_transform(obj.iloc[:, i])\n",
    "# concatenation all parts of the data together\n",
    "df = pd.concat([obj, non_obj], axis = 1)\n",
    "df"
   ]
  },
  {
   "cell_type": "markdown",
   "id": "1bb753a2",
   "metadata": {},
   "source": [
    "# Classification Algorithms"
   ]
  },
  {
   "cell_type": "markdown",
   "id": "ee7e1999",
   "metadata": {},
   "source": [
    "## Before Classification\n",
    "* analysisResults(): helper function fast calculating the results: Accuracy, Sensitivity, Specificity, Positive Predictive Value, Negative Predictive Value, Confusion Matrix\n",
    "* Generalize the training and test data"
   ]
  },
  {
   "cell_type": "code",
   "execution_count": 487,
   "id": "25a2589f",
   "metadata": {},
   "outputs": [],
   "source": [
    "# Saving each accuracy value in the array\n",
    "algorithms=[]\n",
    "metrics=[\"accuracies\", \"sensitivities\", \"specificities\", \"PPVs\", \"NPVs\"]\n",
    "accuracies=[]\n",
    "sensitivities=[]\n",
    "specificities=[]\n",
    "PPVs=[]\n",
    "NPVs=[]"
   ]
  },
  {
   "cell_type": "code",
   "execution_count": 488,
   "id": "5c0cb2c6",
   "metadata": {},
   "outputs": [],
   "source": [
    "def analysisResults(X_train, X_test, y_train, y_test, y_pred):\n",
    "    \n",
    "    # Proportion of true positive and true negative cases among all cases.\n",
    "    accuracy = accuracy_score(y_test, y_pred)\n",
    "    accuracies.append(accuracy)\n",
    "    print(\"Accuracy Value is: \", accuracy)\n",
    "\n",
    "    # Proportion of true positive cases among all positive cases.\n",
    "    sensitivity = recall_score(y_test, y_pred)\n",
    "    sensitivities.append(sensitivity)\n",
    "    print(\"Sensitivity Value is: \", sensitivity)\n",
    "\n",
    "    # Proportion of true negative cases among all negative cases.\n",
    "    specificity = recall_score(y_test, y_pred, pos_label=0)\n",
    "    specificities.append(specificity)\n",
    "    print(\"Specificity Value is: \", specificity)\n",
    "\n",
    "    # Proportion of true positive cases among all cases predicted as positive.\n",
    "    PPV = precision_score(y_test, y_pred)\n",
    "    PPVs.append(PPV)\n",
    "    print(\"Positive Predictive Value is: \", PPV)\n",
    "\n",
    "    # Proportion of true negative cases among all cases predicted as negative.\n",
    "    y_test_inv = 1 - y_test\n",
    "    y_pred_inv = 1 - y_pred\n",
    "    NPV = precision_score(y_test_inv, y_pred_inv)\n",
    "    NPVs.append(NPV)\n",
    "    print(\"Negative Predictive Value is: \", NPV)\n",
    "\n",
    "    confusion_Matrix = confusion_matrix(y_test, y_pred)\n",
    "    print(\"Confusion Matrix is: \", confusion_Matrix)"
   ]
  },
  {
   "cell_type": "code",
   "execution_count": 489,
   "id": "2ce3f790",
   "metadata": {},
   "outputs": [],
   "source": [
    "# Splitting dataset into training and testing sets\n",
    "x = df.drop('HeartDisease', axis=1)\n",
    "y = df['HeartDisease']\n",
    "x_train, x_test, y_train, y_test = train_test_split(x, y, test_size=0.2, random_state=42)"
   ]
  },
  {
   "cell_type": "markdown",
   "id": "83fd388e",
   "metadata": {},
   "source": [
    "# 1. Naïve Bays Classifier\n",
    "* Uses Bayes' theorem to make predictions based on the assumption that the features in the data are independent of each other"
   ]
  },
  {
   "cell_type": "code",
   "execution_count": 490,
   "id": "c785d361",
   "metadata": {},
   "outputs": [],
   "source": [
    "# important for Naïve Bays Classifier\n",
    "from sklearn.naive_bayes import GaussianNB\n",
    "algorithms.append(\"Naive Bays\")\n",
    "\n",
    "# Training Naïve Bayes Classifier\n",
    "nb_classifier = GaussianNB()\n",
    "nb_classifier.fit(x_train, y_train)\n",
    "\n",
    "# Making predictions\n",
    "y_pred = nb_classifier.predict(x_test)"
   ]
  },
  {
   "cell_type": "code",
   "execution_count": 491,
   "id": "5f1f6319",
   "metadata": {},
   "outputs": [
    {
     "name": "stdout",
     "output_type": "stream",
     "text": [
      "Accuracy Value is:  0.8764044943820225\n",
      "Sensitivity Value is:  0.8645833333333334\n",
      "Specificity Value is:  0.8902439024390244\n",
      "Positive Predictive Value is:  0.9021739130434783\n",
      "Negative Predictive Value is:  0.8488372093023255\n",
      "Confusion Matrix is:  [[73  9]\n",
      " [13 83]]\n"
     ]
    }
   ],
   "source": [
    "# Call the helper function with the local current parameters\n",
    "analysisResults(x_train, x_test, y_train, y_test, y_pred)"
   ]
  },
  {
   "cell_type": "markdown",
   "id": "fc76e275",
   "metadata": {},
   "source": [
    "# 2. Decision Tree Classifier"
   ]
  },
  {
   "cell_type": "code",
   "execution_count": 492,
   "id": "9ff3bc86",
   "metadata": {},
   "outputs": [],
   "source": [
    "# important for Decision Tree Classifier\n",
    "from sklearn.tree import DecisionTreeClassifier\n",
    "algorithms.append(\"Decision Tree\")\n",
    "\n",
    "# Initializing the Decision Tree Classifier\n",
    "dtc = DecisionTreeClassifier()\n",
    "# Fitting the model to the training data\n",
    "dtc.fit(x_train, y_train)\n",
    "# Making predictions on the testing data\n",
    "y_pred = dtc.predict(x_test)"
   ]
  },
  {
   "cell_type": "code",
   "execution_count": 493,
   "id": "9973e8d5",
   "metadata": {},
   "outputs": [
    {
     "name": "stdout",
     "output_type": "stream",
     "text": [
      "Accuracy Value is:  0.8202247191011236\n",
      "Sensitivity Value is:  0.8333333333333334\n",
      "Specificity Value is:  0.8048780487804879\n",
      "Positive Predictive Value is:  0.8333333333333334\n",
      "Negative Predictive Value is:  0.8048780487804879\n",
      "Confusion Matrix is:  [[66 16]\n",
      " [16 80]]\n"
     ]
    }
   ],
   "source": [
    "# Call the helper function with the local current parameters\n",
    "analysisResults(x_train, X_test, y_train, y_test, y_pred)"
   ]
  },
  {
   "cell_type": "markdown",
   "id": "2ab2803a",
   "metadata": {},
   "source": [
    "# 3. Linear Discriminant Analysis Classifier (LDA)\n"
   ]
  },
  {
   "cell_type": "code",
   "execution_count": 494,
   "id": "f6460147",
   "metadata": {},
   "outputs": [],
   "source": [
    "# important for LDA\n",
    "from sklearn.discriminant_analysis import LinearDiscriminantAnalysis\n",
    "from sklearn.model_selection import train_test_split\n",
    "from sklearn.linear_model import LogisticRegression\n",
    "algorithms.append(\"Linear Discriminant Analysis\")\n",
    "\n",
    "# creating the LDA classifier and fitting the training data\n",
    "lda = LinearDiscriminantAnalysis()\n",
    "lda.fit(x_train, y_train)\n",
    "# making predictions on the testing data\n",
    "y_pred = lda.predict(x_test)"
   ]
  },
  {
   "cell_type": "code",
   "execution_count": 495,
   "id": "10d1a9b1",
   "metadata": {},
   "outputs": [
    {
     "name": "stdout",
     "output_type": "stream",
     "text": [
      "Accuracy Value is:  0.8764044943820225\n",
      "Sensitivity Value is:  0.8541666666666666\n",
      "Specificity Value is:  0.9024390243902439\n",
      "Positive Predictive Value is:  0.9111111111111111\n",
      "Negative Predictive Value is:  0.8409090909090909\n",
      "Confusion Matrix is:  [[74  8]\n",
      " [14 82]]\n"
     ]
    }
   ],
   "source": [
    "# Call the helper function with the local current parameters\n",
    "analysisResults(x_train, x_test, y_train, y_test, y_pred)"
   ]
  },
  {
   "cell_type": "markdown",
   "id": "42cf39be",
   "metadata": {},
   "source": [
    "# 4. Logistic Regression"
   ]
  },
  {
   "cell_type": "code",
   "execution_count": 496,
   "id": "28c12b42",
   "metadata": {},
   "outputs": [
    {
     "name": "stderr",
     "output_type": "stream",
     "text": [
      "C:\\Users\\A Moner\\anaconda3\\lib\\site-packages\\sklearn\\linear_model\\_logistic.py:814: ConvergenceWarning: lbfgs failed to converge (status=1):\n",
      "STOP: TOTAL NO. of ITERATIONS REACHED LIMIT.\n",
      "\n",
      "Increase the number of iterations (max_iter) or scale the data as shown in:\n",
      "    https://scikit-learn.org/stable/modules/preprocessing.html\n",
      "Please also refer to the documentation for alternative solver options:\n",
      "    https://scikit-learn.org/stable/modules/linear_model.html#logistic-regression\n",
      "  n_iter_i = _check_optimize_result(\n"
     ]
    }
   ],
   "source": [
    "# important for LR\n",
    "from sklearn.linear_model import LogisticRegression\n",
    "from sklearn.model_selection import train_test_split\n",
    "algorithms.append(\"Logistic Regression\")\n",
    "\n",
    "# Create a logistic regression model\n",
    "model = LogisticRegression()\n",
    "# Train the model\n",
    "model.fit(x_train, y_train)\n",
    "# Make predictions\n",
    "y_pred = model.predict(x_test)"
   ]
  },
  {
   "cell_type": "code",
   "execution_count": 497,
   "id": "79f8d84f",
   "metadata": {},
   "outputs": [
    {
     "name": "stdout",
     "output_type": "stream",
     "text": [
      "Accuracy Value is:  0.8707865168539326\n",
      "Sensitivity Value is:  0.8541666666666666\n",
      "Specificity Value is:  0.8902439024390244\n",
      "Positive Predictive Value is:  0.9010989010989011\n",
      "Negative Predictive Value is:  0.8390804597701149\n",
      "Confusion Matrix is:  [[73  9]\n",
      " [14 82]]\n"
     ]
    }
   ],
   "source": [
    "# Call the helper function with the local current parameters\n",
    "analysisResults(X_train, X_test, y_train, y_test, y_pred)"
   ]
  },
  {
   "cell_type": "markdown",
   "id": "11ca56e5",
   "metadata": {},
   "source": [
    "# 5. SVM Classifier"
   ]
  },
  {
   "cell_type": "code",
   "execution_count": 498,
   "id": "5a748e67",
   "metadata": {},
   "outputs": [],
   "source": [
    "# important for CSVM\n",
    "from sklearn.preprocessing import StandardScaler\n",
    "from sklearn.svm import SVC\n",
    "algorithms.append(\"SVM\")\n",
    "\n",
    "sc=StandardScaler()\n",
    "x_train=sc.fit_transform(x_train)\n",
    "x_test=sc.transform(x_test)\n",
    "\n",
    "classifier=SVC(kernel='linear', random_state=0)\n",
    "classifier.fit(x_train,y_train)\n",
    "y_pred=classifier.predict(x_test)"
   ]
  },
  {
   "cell_type": "code",
   "execution_count": 499,
   "id": "de302a82",
   "metadata": {},
   "outputs": [
    {
     "name": "stdout",
     "output_type": "stream",
     "text": [
      "Accuracy Value is:  0.8764044943820225\n",
      "Sensitivity Value is:  0.875\n",
      "Specificity Value is:  0.8780487804878049\n",
      "Positive Predictive Value is:  0.8936170212765957\n",
      "Negative Predictive Value is:  0.8571428571428571\n",
      "Confusion Matrix is:  [[72 10]\n",
      " [12 84]]\n"
     ]
    }
   ],
   "source": [
    "# Call the helper function with the local current parameters\n",
    "analysisResults(x_train, x_test, y_train, y_test, y_pred)"
   ]
  },
  {
   "cell_type": "markdown",
   "id": "1e9f8493",
   "metadata": {},
   "source": [
    "# 6. SGD Classifier"
   ]
  },
  {
   "cell_type": "code",
   "execution_count": 500,
   "id": "b6a9ac70",
   "metadata": {},
   "outputs": [
    {
     "name": "stderr",
     "output_type": "stream",
     "text": [
      "C:\\Users\\A Moner\\anaconda3\\lib\\site-packages\\sklearn\\linear_model\\_stochastic_gradient.py:696: ConvergenceWarning: Maximum number of iteration reached before convergence. Consider increasing max_iter to improve the fit.\n",
      "  warnings.warn(\n"
     ]
    }
   ],
   "source": [
    "# important for SGD\n",
    "from sklearn.linear_model import SGDClassifier\n",
    "algorithms.append(\"SGD\")\n",
    "\n",
    "sc=StandardScaler()\n",
    "x_train=sc.fit_transform(x_train)\n",
    "x_test=sc.transform(x_test)\n",
    "\n",
    "classifier = SGDClassifier(loss=\"hinge\", penalty=\"l2\", max_iter=5)\n",
    "classifier.fit(x_train, y_train)\n",
    "y_pred=classifier.predict(x_test)"
   ]
  },
  {
   "cell_type": "code",
   "execution_count": 501,
   "id": "d7d026bc",
   "metadata": {},
   "outputs": [
    {
     "name": "stdout",
     "output_type": "stream",
     "text": [
      "Accuracy Value is:  0.797752808988764\n",
      "Sensitivity Value is:  0.71875\n",
      "Specificity Value is:  0.8902439024390244\n",
      "Positive Predictive Value is:  0.8846153846153846\n",
      "Negative Predictive Value is:  0.73\n",
      "Confusion Matrix is:  [[73  9]\n",
      " [27 69]]\n"
     ]
    }
   ],
   "source": [
    "# Call the helper function with the local current parameters\n",
    "analysisResults(x_train, x_test, y_train, y_test, y_pred)"
   ]
  },
  {
   "cell_type": "markdown",
   "id": "4f21dbb3",
   "metadata": {},
   "source": [
    "# 7. K-Nearest Neighbors"
   ]
  },
  {
   "cell_type": "code",
   "execution_count": 502,
   "id": "18b929e1",
   "metadata": {},
   "outputs": [],
   "source": [
    "# important for KNN\n",
    "from sklearn.preprocessing import StandardScaler\n",
    "from sklearn.neighbors import KNeighborsClassifier\n",
    "algorithms.append(\"K-Nearest Neighbors\")\n",
    "\n",
    "sc=StandardScaler()\n",
    "x_train=sc.fit_transform(x_train)\n",
    "x_test=sc.transform(x_test)\n",
    "\n",
    "classifier = KNeighborsClassifier()\n",
    "classifier.fit(x_train, y_train)\n",
    "y_pred = classifier.predict(x_test)"
   ]
  },
  {
   "cell_type": "code",
   "execution_count": 503,
   "id": "5587005a",
   "metadata": {},
   "outputs": [
    {
     "name": "stdout",
     "output_type": "stream",
     "text": [
      "Accuracy Value is:  0.8651685393258427\n",
      "Sensitivity Value is:  0.8645833333333334\n",
      "Specificity Value is:  0.8658536585365854\n",
      "Positive Predictive Value is:  0.8829787234042553\n",
      "Negative Predictive Value is:  0.8452380952380952\n",
      "Confusion Matrix is:  [[71 11]\n",
      " [13 83]]\n"
     ]
    }
   ],
   "source": [
    "# Call the helper function with the local current parameters\n",
    "analysisResults(x_train, x_test, y_train, y_test, y_pred)"
   ]
  },
  {
   "cell_type": "code",
   "execution_count": 504,
   "id": "55d74a27",
   "metadata": {},
   "outputs": [
    {
     "data": {
      "image/png": "[encoded data removed]",
      "text/plain": [
       "<Figure size 1152x360 with 1 Axes>"
      ]
     },
     "metadata": {
      "needs_background": "light"
     },
     "output_type": "display_data"
    }
   ],
   "source": [
    "# Correlation of each parameter in corresponding with such a disease\n",
    "x.corrwith(y).plot.bar(figsize=(16, 5), rot=90, grid=False)\n",
    "plt.title('Correlation with heart',\n",
    "          fontsize=25,\n",
    "          color='Blue',\n",
    "          font='Times New Roman')\n",
    "plt.show()"
   ]
  },
  {
   "cell_type": "markdown",
   "id": "277b9140",
   "metadata": {},
   "source": [
    "# 8. Random Forest Classification"
   ]
  },
  {
   "cell_type": "code",
   "execution_count": 505,
   "id": "ab50d2ae",
   "metadata": {},
   "outputs": [],
   "source": [
    "# important for RF\n",
    "from sklearn.preprocessing import StandardScaler\n",
    "from sklearn.ensemble import RandomForestClassifier\n",
    "algorithms.append(\"Random Forest\")\n",
    "\n",
    "classifier = RandomForestClassifier(n_estimators=100)\n",
    "classifier.fit(x_train, y_train)\n",
    "y_pred = classifier.predict(x_test)"
   ]
  },
  {
   "cell_type": "code",
   "execution_count": 506,
   "id": "a4dbf4a7",
   "metadata": {},
   "outputs": [
    {
     "name": "stdout",
     "output_type": "stream",
     "text": [
      "Accuracy Value is:  0.8764044943820225\n",
      "Sensitivity Value is:  0.8854166666666666\n",
      "Specificity Value is:  0.8658536585365854\n",
      "Positive Predictive Value is:  0.8854166666666666\n",
      "Negative Predictive Value is:  0.8658536585365854\n",
      "Confusion Matrix is:  [[71 11]\n",
      " [11 85]]\n"
     ]
    }
   ],
   "source": [
    "# Call the helper function with the local current parameters\n",
    "analysisResults(x_train, x_test, y_train, y_test, y_pred)"
   ]
  },
  {
   "cell_type": "markdown",
   "id": "0dca4b82",
   "metadata": {},
   "source": [
    "# 9. AdaBoost Classifier"
   ]
  },
  {
   "cell_type": "code",
   "execution_count": 507,
   "id": "082b5a73",
   "metadata": {},
   "outputs": [],
   "source": [
    "# important for RF\n",
    "from sklearn.ensemble import AdaBoostClassifier\n",
    "algorithms.append(\"AdaBoost\")\n",
    "\n",
    "classifier = AdaBoostClassifier(n_estimators=100, random_state=0)\n",
    "classifier.fit(x_train, y_train)\n",
    "y_pred=classifier.predict(x_test)"
   ]
  },
  {
   "cell_type": "code",
   "execution_count": 508,
   "id": "5c7ce502",
   "metadata": {},
   "outputs": [
    {
     "name": "stdout",
     "output_type": "stream",
     "text": [
      "Accuracy Value is:  0.8595505617977528\n",
      "Sensitivity Value is:  0.8541666666666666\n",
      "Specificity Value is:  0.8658536585365854\n",
      "Positive Predictive Value is:  0.8817204301075269\n",
      "Negative Predictive Value is:  0.8352941176470589\n",
      "Confusion Matrix is:  [[71 11]\n",
      " [14 82]]\n"
     ]
    }
   ],
   "source": [
    "# Call the helper function with the local current parameters\n",
    "analysisResults(x_train, x_test, y_train, y_test, y_pred)"
   ]
  },
  {
   "cell_type": "markdown",
   "id": "08866f76",
   "metadata": {},
   "source": [
    "# 10. MLP Classifier"
   ]
  },
  {
   "cell_type": "code",
   "execution_count": 509,
   "id": "58699494",
   "metadata": {},
   "outputs": [
    {
     "name": "stderr",
     "output_type": "stream",
     "text": [
      "C:\\Users\\A Moner\\anaconda3\\lib\\site-packages\\sklearn\\neural_network\\_multilayer_perceptron.py:692: ConvergenceWarning: Stochastic Optimizer: Maximum iterations (1000) reached and the optimization hasn't converged yet.\n",
      "  warnings.warn(\n"
     ]
    }
   ],
   "source": [
    "from sklearn.neural_network import MLPClassifier\n",
    "algorithms.append(\"MLP\")\n",
    "\n",
    "classifier = MLPClassifier(alpha=0.05, max_iter=1000, solver='adam', random_state=0) \n",
    "classifier.fit(x_train, y_train)\n",
    "y_pred=classifier.predict(x_test)"
   ]
  },
  {
   "cell_type": "code",
   "execution_count": 510,
   "id": "4d47bf5d",
   "metadata": {},
   "outputs": [
    {
     "name": "stdout",
     "output_type": "stream",
     "text": [
      "Accuracy Value is:  0.8426966292134831\n",
      "Sensitivity Value is:  0.8125\n",
      "Specificity Value is:  0.8780487804878049\n",
      "Positive Predictive Value is:  0.8863636363636364\n",
      "Negative Predictive Value is:  0.8\n",
      "Confusion Matrix is:  [[72 10]\n",
      " [18 78]]\n"
     ]
    }
   ],
   "source": [
    "# Call the helper function with the local current parameters\n",
    "analysisResults(x_train, x_test, y_train, y_test, y_pred)"
   ]
  },
  {
   "cell_type": "markdown",
   "id": "1761a62a",
   "metadata": {},
   "source": [
    "# 11. Linear Regression!"
   ]
  },
  {
   "cell_type": "code",
   "execution_count": 511,
   "id": "6b6996a2",
   "metadata": {},
   "outputs": [],
   "source": [
    "# from sklearn.linear_model import LinearRegression\n",
    "# #algorithms.append(\"Linear Regression\")\n",
    "\n",
    "# reg = LinearRegression()\n",
    "# reg.fit(X_train,y_train)"
   ]
  },
  {
   "cell_type": "code",
   "execution_count": 512,
   "id": "45f884d3",
   "metadata": {},
   "outputs": [],
   "source": [
    "# y_pred = reg.predict(x_test)\n",
    "# print(\"Regression Score value: \", reg.score(x_train,y_train))\n",
    "# print(\"Regression intercept value: \", reg.intercept_)\n",
    "# print(\"Regression coefficient value: \", reg.coef_)"
   ]
  },
  {
   "cell_type": "markdown",
   "id": "86eba830",
   "metadata": {},
   "source": [
    "2. subplots\n",
    "* bar plots noran\n",
    "4. Collect graph\n",
    "* all"
   ]
  },
  {
   "cell_type": "markdown",
   "id": "0dc2a537",
   "metadata": {},
   "source": [
    "# Conclusion"
   ]
  },
  {
   "cell_type": "code",
   "execution_count": 513,
   "id": "77186f14",
   "metadata": {},
   "outputs": [
    {
     "name": "stdout",
     "output_type": "stream",
     "text": [
      "Algorithm Num.0 <Naive Bays>: \n",
      "Accuracy:  0.8764044943820225\n",
      "Sensitivity:  0.8645833333333334\n",
      "Specificity:  0.8902439024390244\n",
      "Positive Predictive Value:  0.9021739130434783\n",
      "Negative Predictive Value:  0.8488372093023255\n",
      "Algorithm Num.1 <Decision Tree>: \n",
      "Accuracy:  0.8202247191011236\n",
      "Sensitivity:  0.8333333333333334\n",
      "Specificity:  0.8048780487804879\n",
      "Positive Predictive Value:  0.8333333333333334\n",
      "Negative Predictive Value:  0.8048780487804879\n",
      "Algorithm Num.2 <Linear Discriminant Analysis>: \n",
      "Accuracy:  0.8764044943820225\n",
      "Sensitivity:  0.8541666666666666\n",
      "Specificity:  0.9024390243902439\n",
      "Positive Predictive Value:  0.9111111111111111\n",
      "Negative Predictive Value:  0.8409090909090909\n",
      "Algorithm Num.3 <Logistic Regression>: \n",
      "Accuracy:  0.8707865168539326\n",
      "Sensitivity:  0.8541666666666666\n",
      "Specificity:  0.8902439024390244\n",
      "Positive Predictive Value:  0.9010989010989011\n",
      "Negative Predictive Value:  0.8390804597701149\n",
      "Algorithm Num.4 <SVM>: \n",
      "Accuracy:  0.8764044943820225\n",
      "Sensitivity:  0.875\n",
      "Specificity:  0.8780487804878049\n",
      "Positive Predictive Value:  0.8936170212765957\n",
      "Negative Predictive Value:  0.8571428571428571\n",
      "Algorithm Num.5 <SGD>: \n",
      "Accuracy:  0.797752808988764\n",
      "Sensitivity:  0.71875\n",
      "Specificity:  0.8902439024390244\n",
      "Positive Predictive Value:  0.8846153846153846\n",
      "Negative Predictive Value:  0.73\n",
      "Algorithm Num.6 <K-Nearest Neighbors>: \n",
      "Accuracy:  0.8651685393258427\n",
      "Sensitivity:  0.8645833333333334\n",
      "Specificity:  0.8658536585365854\n",
      "Positive Predictive Value:  0.8829787234042553\n",
      "Negative Predictive Value:  0.8452380952380952\n",
      "Algorithm Num.7 <Random Forest>: \n",
      "Accuracy:  0.8764044943820225\n",
      "Sensitivity:  0.8854166666666666\n",
      "Specificity:  0.8658536585365854\n",
      "Positive Predictive Value:  0.8854166666666666\n",
      "Negative Predictive Value:  0.8658536585365854\n",
      "Algorithm Num.8 <AdaBoost>: \n",
      "Accuracy:  0.8595505617977528\n",
      "Sensitivity:  0.8541666666666666\n",
      "Specificity:  0.8658536585365854\n",
      "Positive Predictive Value:  0.8817204301075269\n",
      "Negative Predictive Value:  0.8352941176470589\n",
      "Algorithm Num.9 <MLP>: \n",
      "Accuracy:  0.8426966292134831\n",
      "Sensitivity:  0.8125\n",
      "Specificity:  0.8780487804878049\n",
      "Positive Predictive Value:  0.8863636363636364\n",
      "Negative Predictive Value:  0.8\n"
     ]
    }
   ],
   "source": [
    "for a in range(len(accuracies)):\n",
    "    print(\"Algorithm Num.\" + str(a) + \" <\" + algorithms[a] + \">: \")\n",
    "    print(\"Accuracy: \" , accuracies[a])\n",
    "    print(\"Sensitivity: \" , sensitivities[a])\n",
    "    print(\"Specificity: \" , specificities[a])\n",
    "    print(\"Positive Predictive Value: \" , PPVs[a])\n",
    "    print(\"Negative Predictive Value: \" , NPVs[a])"
   ]
  },
  {
   "cell_type": "code",
   "execution_count": 554,
   "id": "298a454b",
   "metadata": {},
   "outputs": [
    {
     "data": {
      "image/png": "[encoded data removed]",
      "text/plain": [
       "<Figure size 432x288 with 1 Axes>"
      ]
     },
     "metadata": {
      "needs_background": "light"
     },
     "output_type": "display_data"
    }
   ],
   "source": [
    "plt.title(\"Algorithms' accuracies\" , color=\"blue\")\n",
    "plt.xlabel(\"algorithm\")\n",
    "plt.ylabel(\"accuracies\")\n",
    "#plt.ylim(min(accuracies), max(accuracies), 0.05)\n",
    "\n",
    "plt.plot(algorithms, accuracies, color =\"green\", marker='o', linestyle='dotted')\n",
    "plt.tick_params(axis='x', labelrotation = 90)\n",
    "plt.show()"
   ]
  },
  {
   "cell_type": "code",
   "execution_count": 555,
   "id": "58f30fd0",
   "metadata": {
    "scrolled": true
   },
   "outputs": [
    {
     "data": {
      "image/png": "[encoded data removed]",
      "text/plain": [
       "<Figure size 432x288 with 1 Axes>"
      ]
     },
     "metadata": {
      "needs_background": "light"
     },
     "output_type": "display_data"
    }
   ],
   "source": [
    "plt.title(\"Algorithms' sensitivities\" , color=\"blue\")\n",
    "plt.xlabel(\"algorithm\")\n",
    "plt.ylabel(\"sensitivities\")\n",
    "#plt.ylim(min(accuracies), max(accuracies), 0.05)\n",
    "\n",
    "plt.plot(algorithms, sensitivities, color =\"green\", marker='o', linestyle='dotted')\n",
    "plt.tick_params(axis='x', labelrotation = 90)\n",
    "plt.show()"
   ]
  },
  {
   "cell_type": "code",
   "execution_count": null,
   "id": "fa8879b6",
   "metadata": {},
   "outputs": [],
   "source": []
  },
  {
   "cell_type": "code",
   "execution_count": 523,
   "id": "847e0144",
   "metadata": {},
   "outputs": [
    {
     "name": "stdout",
     "output_type": "stream",
     "text": [
      "accuracies\n",
      "sensitivities\n",
      "specificities\n",
      "PPVs\n",
      "NPVs\n"
     ]
    }
   ],
   "source": [
    "for a in metrics:\n",
    "    print(a)"
   ]
  },
  {
   "cell_type": "code",
   "execution_count": 556,
   "id": "f4852a99",
   "metadata": {},
   "outputs": [
    {
     "data": {
      "image/png": "[encoded data removed]",
      "text/plain": [
       "<Figure size 432x288 with 1 Axes>"
      ]
     },
     "metadata": {
      "needs_background": "light"
     },
     "output_type": "display_data"
    },
    {
     "ename": "ValueError",
     "evalue": "x and y must have same first dimension, but have shapes (10,) and (13,)",
     "output_type": "error",
     "traceback": [
      "\u001b[1;31m---------------------------------------------------------------------------\u001b[0m",
      "\u001b[1;31mValueError\u001b[0m                                Traceback (most recent call last)",
      "Input \u001b[1;32mIn [556]\u001b[0m, in \u001b[0;36m<cell line: 1>\u001b[1;34m()\u001b[0m\n\u001b[0;32m      3\u001b[0m plt\u001b[38;5;241m.\u001b[39mxlabel(\u001b[38;5;124m\"\u001b[39m\u001b[38;5;124malgorithm\u001b[39m\u001b[38;5;124m\"\u001b[39m)\n\u001b[0;32m      5\u001b[0m plt\u001b[38;5;241m.\u001b[39mylim(\u001b[38;5;28mmin\u001b[39m(i), \u001b[38;5;28mmax\u001b[39m(i), \u001b[38;5;241m0.05\u001b[39m)\n\u001b[1;32m----> 6\u001b[0m \u001b[43mplt\u001b[49m\u001b[38;5;241;43m.\u001b[39;49m\u001b[43mplot\u001b[49m\u001b[43m(\u001b[49m\u001b[43malgorithms\u001b[49m\u001b[43m,\u001b[49m\u001b[43m \u001b[49m\u001b[38;5;28;43mlist\u001b[39;49m\u001b[43m(\u001b[49m\u001b[43mi\u001b[49m\u001b[43m)\u001b[49m\u001b[43m,\u001b[49m\u001b[43m \u001b[49m\u001b[43mcolor\u001b[49m\u001b[43m \u001b[49m\u001b[38;5;241;43m=\u001b[39;49m\u001b[38;5;124;43m\"\u001b[39;49m\u001b[38;5;124;43mgreen\u001b[39;49m\u001b[38;5;124;43m\"\u001b[39;49m\u001b[43m,\u001b[49m\u001b[43m \u001b[49m\u001b[43mmarker\u001b[49m\u001b[38;5;241;43m=\u001b[39;49m\u001b[38;5;124;43m'\u001b[39;49m\u001b[38;5;124;43mo\u001b[39;49m\u001b[38;5;124;43m'\u001b[39;49m\u001b[43m,\u001b[49m\u001b[43m \u001b[49m\u001b[43mlinestyle\u001b[49m\u001b[38;5;241;43m=\u001b[39;49m\u001b[38;5;124;43m'\u001b[39;49m\u001b[38;5;124;43mdotted\u001b[39;49m\u001b[38;5;124;43m'\u001b[39;49m\u001b[43m)\u001b[49m\n\u001b[0;32m      7\u001b[0m plt\u001b[38;5;241m.\u001b[39mtick_params(axis\u001b[38;5;241m=\u001b[39m\u001b[38;5;124m'\u001b[39m\u001b[38;5;124mx\u001b[39m\u001b[38;5;124m'\u001b[39m, labelrotation \u001b[38;5;241m=\u001b[39m \u001b[38;5;241m90\u001b[39m)\n\u001b[0;32m      8\u001b[0m plt\u001b[38;5;241m.\u001b[39mshow()\n",
      "File \u001b[1;32m~\\anaconda3\\lib\\site-packages\\matplotlib\\pyplot.py:2757\u001b[0m, in \u001b[0;36mplot\u001b[1;34m(scalex, scaley, data, *args, **kwargs)\u001b[0m\n\u001b[0;32m   2755\u001b[0m \u001b[38;5;129m@_copy_docstring_and_deprecators\u001b[39m(Axes\u001b[38;5;241m.\u001b[39mplot)\n\u001b[0;32m   2756\u001b[0m \u001b[38;5;28;01mdef\u001b[39;00m \u001b[38;5;21mplot\u001b[39m(\u001b[38;5;241m*\u001b[39margs, scalex\u001b[38;5;241m=\u001b[39m\u001b[38;5;28;01mTrue\u001b[39;00m, scaley\u001b[38;5;241m=\u001b[39m\u001b[38;5;28;01mTrue\u001b[39;00m, data\u001b[38;5;241m=\u001b[39m\u001b[38;5;28;01mNone\u001b[39;00m, \u001b[38;5;241m*\u001b[39m\u001b[38;5;241m*\u001b[39mkwargs):\n\u001b[1;32m-> 2757\u001b[0m     \u001b[38;5;28;01mreturn\u001b[39;00m gca()\u001b[38;5;241m.\u001b[39mplot(\n\u001b[0;32m   2758\u001b[0m         \u001b[38;5;241m*\u001b[39margs, scalex\u001b[38;5;241m=\u001b[39mscalex, scaley\u001b[38;5;241m=\u001b[39mscaley,\n\u001b[0;32m   2759\u001b[0m         \u001b[38;5;241m*\u001b[39m\u001b[38;5;241m*\u001b[39m({\u001b[38;5;124m\"\u001b[39m\u001b[38;5;124mdata\u001b[39m\u001b[38;5;124m\"\u001b[39m: data} \u001b[38;5;28;01mif\u001b[39;00m data \u001b[38;5;129;01mis\u001b[39;00m \u001b[38;5;129;01mnot\u001b[39;00m \u001b[38;5;28;01mNone\u001b[39;00m \u001b[38;5;28;01melse\u001b[39;00m {}), \u001b[38;5;241m*\u001b[39m\u001b[38;5;241m*\u001b[39mkwargs)\n",
      "File \u001b[1;32m~\\anaconda3\\lib\\site-packages\\matplotlib\\axes\\_axes.py:1632\u001b[0m, in \u001b[0;36mAxes.plot\u001b[1;34m(self, scalex, scaley, data, *args, **kwargs)\u001b[0m\n\u001b[0;32m   1390\u001b[0m \u001b[38;5;124;03m\"\"\"\u001b[39;00m\n\u001b[0;32m   1391\u001b[0m \u001b[38;5;124;03mPlot y versus x as lines and/or markers.\u001b[39;00m\n\u001b[0;32m   1392\u001b[0m \n\u001b[1;32m   (...)\u001b[0m\n\u001b[0;32m   1629\u001b[0m \u001b[38;5;124;03m(``'green'``) or hex strings (``'#008000'``).\u001b[39;00m\n\u001b[0;32m   1630\u001b[0m \u001b[38;5;124;03m\"\"\"\u001b[39;00m\n\u001b[0;32m   1631\u001b[0m kwargs \u001b[38;5;241m=\u001b[39m cbook\u001b[38;5;241m.\u001b[39mnormalize_kwargs(kwargs, mlines\u001b[38;5;241m.\u001b[39mLine2D)\n\u001b[1;32m-> 1632\u001b[0m lines \u001b[38;5;241m=\u001b[39m [\u001b[38;5;241m*\u001b[39m\u001b[38;5;28mself\u001b[39m\u001b[38;5;241m.\u001b[39m_get_lines(\u001b[38;5;241m*\u001b[39margs, data\u001b[38;5;241m=\u001b[39mdata, \u001b[38;5;241m*\u001b[39m\u001b[38;5;241m*\u001b[39mkwargs)]\n\u001b[0;32m   1633\u001b[0m \u001b[38;5;28;01mfor\u001b[39;00m line \u001b[38;5;129;01min\u001b[39;00m lines:\n\u001b[0;32m   1634\u001b[0m     \u001b[38;5;28mself\u001b[39m\u001b[38;5;241m.\u001b[39madd_line(line)\n",
      "File \u001b[1;32m~\\anaconda3\\lib\\site-packages\\matplotlib\\axes\\_base.py:312\u001b[0m, in \u001b[0;36m_process_plot_var_args.__call__\u001b[1;34m(self, data, *args, **kwargs)\u001b[0m\n\u001b[0;32m    310\u001b[0m     this \u001b[38;5;241m+\u001b[39m\u001b[38;5;241m=\u001b[39m args[\u001b[38;5;241m0\u001b[39m],\n\u001b[0;32m    311\u001b[0m     args \u001b[38;5;241m=\u001b[39m args[\u001b[38;5;241m1\u001b[39m:]\n\u001b[1;32m--> 312\u001b[0m \u001b[38;5;28;01myield from\u001b[39;00m \u001b[38;5;28;43mself\u001b[39;49m\u001b[38;5;241;43m.\u001b[39;49m\u001b[43m_plot_args\u001b[49m\u001b[43m(\u001b[49m\u001b[43mthis\u001b[49m\u001b[43m,\u001b[49m\u001b[43m \u001b[49m\u001b[43mkwargs\u001b[49m\u001b[43m)\u001b[49m\n",
      "File \u001b[1;32m~\\anaconda3\\lib\\site-packages\\matplotlib\\axes\\_base.py:498\u001b[0m, in \u001b[0;36m_process_plot_var_args._plot_args\u001b[1;34m(self, tup, kwargs, return_kwargs)\u001b[0m\n\u001b[0;32m    495\u001b[0m     \u001b[38;5;28mself\u001b[39m\u001b[38;5;241m.\u001b[39maxes\u001b[38;5;241m.\u001b[39myaxis\u001b[38;5;241m.\u001b[39mupdate_units(y)\n\u001b[0;32m    497\u001b[0m \u001b[38;5;28;01mif\u001b[39;00m x\u001b[38;5;241m.\u001b[39mshape[\u001b[38;5;241m0\u001b[39m] \u001b[38;5;241m!=\u001b[39m y\u001b[38;5;241m.\u001b[39mshape[\u001b[38;5;241m0\u001b[39m]:\n\u001b[1;32m--> 498\u001b[0m     \u001b[38;5;28;01mraise\u001b[39;00m \u001b[38;5;167;01mValueError\u001b[39;00m(\u001b[38;5;124mf\u001b[39m\u001b[38;5;124m\"\u001b[39m\u001b[38;5;124mx and y must have same first dimension, but \u001b[39m\u001b[38;5;124m\"\u001b[39m\n\u001b[0;32m    499\u001b[0m                      \u001b[38;5;124mf\u001b[39m\u001b[38;5;124m\"\u001b[39m\u001b[38;5;124mhave shapes \u001b[39m\u001b[38;5;132;01m{\u001b[39;00mx\u001b[38;5;241m.\u001b[39mshape\u001b[38;5;132;01m}\u001b[39;00m\u001b[38;5;124m and \u001b[39m\u001b[38;5;132;01m{\u001b[39;00my\u001b[38;5;241m.\u001b[39mshape\u001b[38;5;132;01m}\u001b[39;00m\u001b[38;5;124m\"\u001b[39m)\n\u001b[0;32m    500\u001b[0m \u001b[38;5;28;01mif\u001b[39;00m x\u001b[38;5;241m.\u001b[39mndim \u001b[38;5;241m>\u001b[39m \u001b[38;5;241m2\u001b[39m \u001b[38;5;129;01mor\u001b[39;00m y\u001b[38;5;241m.\u001b[39mndim \u001b[38;5;241m>\u001b[39m \u001b[38;5;241m2\u001b[39m:\n\u001b[0;32m    501\u001b[0m     \u001b[38;5;28;01mraise\u001b[39;00m \u001b[38;5;167;01mValueError\u001b[39;00m(\u001b[38;5;124mf\u001b[39m\u001b[38;5;124m\"\u001b[39m\u001b[38;5;124mx and y can be no greater than 2D, but have \u001b[39m\u001b[38;5;124m\"\u001b[39m\n\u001b[0;32m    502\u001b[0m                      \u001b[38;5;124mf\u001b[39m\u001b[38;5;124m\"\u001b[39m\u001b[38;5;124mshapes \u001b[39m\u001b[38;5;132;01m{\u001b[39;00mx\u001b[38;5;241m.\u001b[39mshape\u001b[38;5;132;01m}\u001b[39;00m\u001b[38;5;124m and \u001b[39m\u001b[38;5;132;01m{\u001b[39;00my\u001b[38;5;241m.\u001b[39mshape\u001b[38;5;132;01m}\u001b[39;00m\u001b[38;5;124m\"\u001b[39m)\n",
      "\u001b[1;31mValueError\u001b[0m: x and y must have same first dimension, but have shapes (10,) and (13,)"
     ]
    },
    {
     "data": {
      "image/png": "[encoded data removed]",
      "text/plain": [
       "<Figure size 432x288 with 1 Axes>"
      ]
     },
     "metadata": {
      "needs_background": "light"
     },
     "output_type": "display_data"
    }
   ],
   "source": [
    "for i in metrics:\n",
    "    plt.title(\"Algorithms'... \", color=\"blue\")\n",
    "    plt.xlabel(\"algorithm\")\n",
    "\n",
    "    plt.ylim(min(i), max(i), 0.05)\n",
    "    plt.plot(algorithms, list(i), color =\"green\", marker='o', linestyle='dotted')\n",
    "    plt.tick_params(axis='x', labelrotation = 90)\n",
    "    plt.show()"
   ]
  },
  {
   "cell_type": "code",
   "execution_count": null,
   "id": "096d15a1",
   "metadata": {},
   "outputs": [],
   "source": []
  }
 ],
 "metadata": {
  "kernelspec": {
   "display_name": "Python 3 (ipykernel)",
   "language": "python",
   "name": "python3"
  },
  "language_info": {
   "codemirror_mode": {
    "name": "ipython",
    "version": 3
   },
   "file_extension": ".py",
   "mimetype": "text/x-python",
   "name": "python",
   "nbconvert_exporter": "python",
   "pygments_lexer": "ipython3",
   "version": "3.9.12"
  }
 },
 "nbformat": 4,
 "nbformat_minor": 5
}
